{
  "nbformat": 4,
  "nbformat_minor": 0,
  "metadata": {
    "colab": {
      "provenance": []
    },
    "kernelspec": {
      "name": "python3",
      "display_name": "Python 3"
    },
    "language_info": {
      "name": "python"
    }
  },
  "cells": [
    {
      "cell_type": "code",
      "execution_count": null,
      "metadata": {
        "id": "hDo3J_yeatT_"
      },
      "outputs": [],
      "source": [
        "import librosa\n",
        "import soundfile as sf\n",
        "import numpy as np\n",
        "\n",
        "\n",
        "audio_path = '/content/'\n",
        "target_sr = 16000\n",
        "\n",
        "\n",
        "waveform, sr = librosa.load(audio_path, sr=target_sr)\n",
        "\n",
        "chunk_duration = 600  # 10 minute\n",
        "samples_per_chunk = int(chunk_duration * sr)\n",
        "total_samples = len(waveform)\n",
        "total_duration = total_samples / sr\n",
        "\n",
        "print(f\" {total_duration:.2f} \")\n",
        "\n",
        "\n",
        "chunk_filenames = []\n",
        "for i in range(0, total_samples, samples_per_chunk):\n",
        "    chunk = waveform[i: i + samples_per_chunk]\n",
        "    chunk_index = i // samples_per_chunk\n",
        "    chunk_filename = f'/content/output_chunk_{chunk_index}.wav'\n",
        "    sf.write(chunk_filename, chunk, sr)\n",
        "    chunk_filenames.append(chunk_filename)\n",
        "    print(f\"save {chunk_filename}\")\n",
        "\n",
        "print(\"that all\")\n"
      ]
    }
  ]
}