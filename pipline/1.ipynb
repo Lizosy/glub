{
 "cells": [
  {
   "cell_type": "code",
   "execution_count": 2,
   "id": "c754ea46",
   "metadata": {},
   "outputs": [],
   "source": [
    "!pip install transformers hf_transfer bitsandbytes accelerate -qU"
   ]
  },
  {
   "cell_type": "code",
   "execution_count": 3,
   "id": "b02a886b",
   "metadata": {},
   "outputs": [],
   "source": [
    "import os\n",
    "import torch\n",
    "from transformers import AutoProcessor, AutoModelForCausalLM, LEDForConditionalGeneration, LEDTokenizer\n",
    "import soundfile as sf"
   ]
  },
  {
   "cell_type": "code",
   "execution_count": 4,
   "id": "01678fa9",
   "metadata": {},
   "outputs": [
    {
     "name": "stderr",
     "output_type": "stream",
     "text": [
      "Sliding Window Attention is enabled but not implemented for `sdpa`; unexpected results may be encountered.\n",
      "The model weights are not tied. Please use the `tie_weights` method before using the `infer_auto_device` function.\n"
     ]
    },
    {
     "data": {
      "application/vnd.jupyter.widget-view+json": {
       "model_id": "df1719f377264c1887ec90769a2d4836",
       "version_major": 2,
       "version_minor": 0
      },
      "text/plain": [
       "Loading checkpoint shards:   0%|          | 0/5 [00:00<?, ?it/s]"
      ]
     },
     "metadata": {},
     "output_type": "display_data"
    }
   ],
   "source": [
    "from io import BytesIO\n",
    "from urllib.request import urlopen\n",
    "import librosa\n",
    "from transformers import Qwen2AudioForConditionalGeneration, AutoProcessor, BitsAndBytesConfig\n",
    "import torch\n",
    "\n",
    "quant_config = BitsAndBytesConfig(\n",
    "    load_in_4bit=True,\n",
    "    bnb_4bit_compute_dtype=torch.float16, #bfloat16 if on ampere, lovelace, ada or hopper\n",
    "    bnb_4bit_use_double_quant=True,\n",
    "    bnb_4bit_quant_type=\"nf4\")\n",
    "\n",
    "processor = AutoProcessor.from_pretrained(\"Qwen/Qwen2-Audio-7B-Instruct\")\n",
    "models = Qwen2AudioForConditionalGeneration.from_pretrained(\n",
    "    \"Qwen/Qwen2-Audio-7B-Instruct\",\n",
    "    quantization_config=quant_config,\n",
    "    device_map=\"auto\",\n",
    "    )"
   ]
  },
  {
   "cell_type": "code",
   "execution_count": 5,
   "id": "2acfb558",
   "metadata": {},
   "outputs": [],
   "source": [
    "led_tokenizer = LEDTokenizer.from_pretrained(\"allenai/led-base-16384\")\n",
    "led_model = LEDForConditionalGeneration.from_pretrained(\"allenai/led-base-16384\").to(\"cuda\")"
   ]
  },
  {
   "cell_type": "code",
   "execution_count": 6,
   "id": "9ba78c60",
   "metadata": {},
   "outputs": [],
   "source": [
    "# อ่าน sampling rate จาก environment variable ที่กำหนดใน shell script\n",
    "sr = int(os.getenv(\"SR\", 16000))  # ค่า default คือ 16000 หากไม่มีการตั้งค่า"
   ]
  },
  {
   "cell_type": "code",
   "execution_count": 7,
   "id": "2c014b84",
   "metadata": {},
   "outputs": [],
   "source": [
    "# กำหนด path ของไฟล์เสียง\n",
    "movie_audio_path = 'A Minecraft Movie.wav'"
   ]
  },
  {
   "cell_type": "code",
   "execution_count": 8,
   "id": "31d25e55",
   "metadata": {},
   "outputs": [],
   "source": [
    "# กำหนด sampling rate ตามที่โมเดล Qwen-Audio ต้องการ\n",
    "expected_sr = processor.feature_extractor.sampling_rate  # ปกติคือ 16000 Hz"
   ]
  },
  {
   "cell_type": "code",
   "execution_count": 9,
   "id": "77f021a0",
   "metadata": {},
   "outputs": [],
   "source": [
    "# โหลดไฟล์เสียงด้วย librosa\n",
    "audio_data, sr = librosa.load(movie_audio_path, sr=expected_sr)"
   ]
  },
  {
   "cell_type": "code",
   "execution_count": 10,
   "id": "a9f821c3",
   "metadata": {},
   "outputs": [],
   "source": [
    "# กำหนดความยาวของแต่ละ segment (เช่น 30 วินาที)\n",
    "segment_length = 30 * expected_sr  # 30 วินาทีในหน่วย samples"
   ]
  },
  {
   "cell_type": "code",
   "execution_count": 11,
   "id": "3ee71c1f",
   "metadata": {},
   "outputs": [],
   "source": [
    "# คำนวณจำนวน segments\n",
    "num_segments = len(audio_data) // segment_length"
   ]
  },
  {
   "cell_type": "code",
   "execution_count": 12,
   "id": "e1788dbb",
   "metadata": {},
   "outputs": [],
   "source": [
    "# แบ่งไฟล์เสียงเป็น segments\n",
    "segments = [audio_data[i*segment_length:(i+1)*segment_length] for i in range(num_segments)]"
   ]
  },
  {
   "cell_type": "code",
   "execution_count": 13,
   "id": "25762b18",
   "metadata": {},
   "outputs": [],
   "source": [
    "# เตรียมตัวแปรสำหรับเก็บผลลัพธ์\n",
    "final_response_parts = []\n",
    "conversation_history = []"
   ]
  },
  {
   "cell_type": "code",
   "execution_count": 14,
   "id": "afd46e5c",
   "metadata": {},
   "outputs": [
    {
     "name": "stdout",
     "output_type": "stream",
     "text": [
      "Saved 9 audio segments to segments/\n",
      "Segment duration: 600 seconds\n"
     ]
    }
   ],
   "source": [
    "# Create directory for saving audio segments if it doesn't exist\n",
    "segment_dir = 'segments'\n",
    "if not os.path.exists(segment_dir):\n",
    "    os.makedirs(segment_dir)\n",
    "\n",
    "# Allow configurable segment length (in seconds)\n",
    "segment_duration_seconds = os.getenv(\"SEGMENT_DURATION\", \"600\")  # Default 30 seconds\n",
    "segment_length = int(float(segment_duration_seconds) * expected_sr)\n",
    "\n",
    "# Recalculate segments with the configurable length\n",
    "num_segments = len(audio_data) // segment_length\n",
    "segments = [audio_data[i*segment_length:(i+1)*segment_length] for i in range(num_segments)]\n",
    "\n",
    "# Save each segment as a separate WAV file\n",
    "for i, segment in enumerate(segments):\n",
    "    segment_path = os.path.join(segment_dir, f'segment_{i}.wav')\n",
    "    sf.write(segment_path, segment, sr)\n",
    "    \n",
    "print(f\"Saved {len(segments)} audio segments to {segment_dir}/\")\n",
    "print(f\"Segment duration: {segment_duration_seconds} seconds\")"
   ]
  },
  {
   "cell_type": "code",
   "execution_count": 15,
   "id": "427b5aa2",
   "metadata": {},
   "outputs": [],
   "source": [
    "audio_info = {\n",
    "    \"type\": \"audio\",\n",
    "    \"audio_data\": segment,\n",
    "    \"sampling_rate\": sr,\n",
    "    \"file_name\": f\"segment_{i}.wav\"\n",
    "}"
   ]
  },
  {
   "cell_type": "code",
   "execution_count": 16,
   "id": "11a6793c",
   "metadata": {},
   "outputs": [
    {
     "name": "stderr",
     "output_type": "stream",
     "text": [
      "C:\\Users\\UsEr\\AppData\\Local\\Temp\\ipykernel_10528\\1918136454.py:9: FutureWarning: `audios` is deprecated and will be removed in version 4.54.0 for `Qwen2AudioProcessor.__call__`. Use `audio` instead.\n",
      "  inputs = processor(text=text_prompt, audios=[audio_info[\"audio_data\"]], return_tensors=\"pt\", padding=True).to(\"cuda\")\n",
      "It is strongly recommended to pass the `sampling_rate` argument to `WhisperFeatureExtractor()`. Failing to do so can result in silent errors that might be hard to debug.\n",
      "It is strongly recommended to pass the `sampling_rate` argument to `WhisperFeatureExtractor()`. Failing to do so can result in silent errors that might be hard to debug.\n",
      "It is strongly recommended to pass the `sampling_rate` argument to `WhisperFeatureExtractor()`. Failing to do so can result in silent errors that might be hard to debug.\n",
      "It is strongly recommended to pass the `sampling_rate` argument to `WhisperFeatureExtractor()`. Failing to do so can result in silent errors that might be hard to debug.\n",
      "It is strongly recommended to pass the `sampling_rate` argument to `WhisperFeatureExtractor()`. Failing to do so can result in silent errors that might be hard to debug.\n",
      "It is strongly recommended to pass the `sampling_rate` argument to `WhisperFeatureExtractor()`. Failing to do so can result in silent errors that might be hard to debug.\n",
      "It is strongly recommended to pass the `sampling_rate` argument to `WhisperFeatureExtractor()`. Failing to do so can result in silent errors that might be hard to debug.\n",
      "It is strongly recommended to pass the `sampling_rate` argument to `WhisperFeatureExtractor()`. Failing to do so can result in silent errors that might be hard to debug.\n",
      "It is strongly recommended to pass the `sampling_rate` argument to `WhisperFeatureExtractor()`. Failing to do so can result in silent errors that might be hard to debug.\n"
     ]
    }
   ],
   "source": [
    "for i, segment in enumerate(segments):\n",
    "    audio_info = {\"type\": \"audio\", \"audio_data\": segment, \"sampling_rate\": sr, \"file_name\": f\"segment_{i}.wav\"}\n",
    "    conversation = []\n",
    "    if conversation_history:\n",
    "        conversation.extend(conversation_history)\n",
    "    instruction_text = \"Describe the sound effects and tell me the mood in this segment.\" if i == 0 else \"Continuing from the previous, describe the sound effects and mood in this next part.\"\n",
    "    conversation.append({\"role\": \"user\", \"content\": [{\"type\": \"audio\", \"audio\": audio_info[\"audio_data\"]}, {\"type\": \"text\", \"text\": instruction_text}]})\n",
    "    text_prompt = processor.apply_chat_template(conversation, add_generation_prompt=True, tokenize=False)\n",
    "    inputs = processor(text=text_prompt, audios=[audio_info[\"audio_data\"]], return_tensors=\"pt\", padding=True).to(\"cuda\")\n",
    "    generated_ids = models.generate(**inputs, max_new_tokens=200, do_sample=True, temperature=0.7, top_p=0.9)\n",
    "    generated_ids = generated_ids[:, inputs.input_ids.size(1):]\n",
    "    response_part = processor.batch_decode(generated_ids, skip_special_tokens=True, clean_up_tokenization_spaces=False)[0]\n",
    "    final_response_parts.append(response_part)\n",
    "    conversation_history.append({\"role\": \"assistant\", \"content\": [{\"type\": \"text\", \"text\": response_part}]})"
   ]
  },
  {
   "cell_type": "code",
   "execution_count": 28,
   "id": "f7183d4e",
   "metadata": {},
   "outputs": [],
   "source": [
    "# รวมคำอธิบายของทุก segment เป็นข้อความเดียว\n",
    "full_description = \"\\n\".join(final_response_parts)\n"
   ]
  },
  {
   "cell_type": "code",
   "execution_count": null,
   "id": "ff3f244a",
   "metadata": {},
   "outputs": [
    {
     "name": "stderr",
     "output_type": "stream",
     "text": [
      "Input ids are automatically padded from 461 to 1024 to be a multiple of `config.attention_window`: 1024\n"
     ]
    }
   ],
   "source": [
    "summary_prompt = f\"Based on the following audio description of a movie, which includes various sound segments, please infer and summarize what the movie is likely about. Consider the key sounds, their sequence, and the moods they evoke to hypothesize the plot, themes, and overall atmosphere of the film:\\n\\n{full_description}\"\n",
    "\n",
    "inputs = led_tokenizer(summary_prompt, return_tensors=\"pt\", max_length=16384, truncation=True).to(\"cuda\")\n",
    "\n",
    "summary_ids = led_model.generate(\n",
    "    inputs[\"input_ids\"], \n",
    "    max_length=1000,  # ปรับให้สั้นลง\n",
    "    min_length=100,\n",
    "    num_beams=4,\n",
    "    length_penalty=1.0,  # ปรับให้กระชับ\n",
    "    early_stopping=True,\n",
    "    no_repeat_ngram_size=3\n",
    ")\n",
    "\n",
    "summary = led_tokenizer.decode(summary_ids[0], skip_special_tokens=True)"
   ]
  },
  {
   "cell_type": "code",
   "execution_count": 37,
   "id": "710e9765",
   "metadata": {},
   "outputs": [
    {
     "name": "stdout",
     "output_type": "stream",
     "text": [
      "สรุปผลลัพธ์:\n",
      "Imagine you are a film critic reviewing the audio aspects of a movie. Summarize the following audio description, highlighting the key sounds, the moods they evoke, and how they contribute to the overall atmosphere of the scene. Be concise but descriptive, as if writing a brief review for a film magazine:The sound effects in this section are described as generic impact sounds. The mood conveyed by the music is one of excitement, anticipation, and anticipation.The audio contains sound effects with no specific source, described asgeneric impact sounds, and also includes music playing in the background. The music is happy, inspiring, motivational, optimistic, positive, and uplifting.The sound effect in this segment is described as:The car engine revving followed by it idling loudly. The atmosphere is tense and tense.Sound effects such as clock ticking or other mechanisms occur intermittently throughout the track, contributing to an overall feeling of tension and unease.The following segment features sound effects without any specific source at the beginning, then transitions into music with a horror elements and a feeling of dread.After a moment of silence, the sound effects continue with a倚在门上的声音, possibly indicating someone waiting or lurking nearby. There's also the sound of a horse neighing in the distance, which could suggest a scene taking place outdoors or in a rural area. Overall, these sounds contribute to a tense and eerie atmosphere, enhancing the horror elements of the story. The sound effects are characterized as:the sound of dogs growling, snarling, and barking. There is also music playing at the background with a sad mood, reflecting a tense atmosphere.the sound effects consist of a dog growling and barking, indicating that someone is waiting or waiting for a scene in a nearby area. There are also a number of other sounds that are similar to what might be heard in a video game, such as a dog barking and a clown's mouth and a Ferris wheel turning.The mood conveyed is described by a fighting game, with various sound effects occurring intermittently such as jumping, swinging, and shouting. The general mood is intense and exciting, suitable for an action-packed scene in an video game or similar environment.The Sound Effects consist of dogs barking and barking and there is also a barking.There is also continuous music playing, which may suggest a movie or a movie theater. The overall mood is composed of joy and festivity.TheSound Effects in This section are more commonly associated with a circus or funfair, including the sound-like sounds of a clown, a clowns mouth, and a ferris wheel spinning. The Mood conveyed is one-sided. It's one of festivity, typical of such attractions. The Sound Effects in this\n"
     ]
    }
   ],
   "source": [
    "# แสดงผลลัพธ์\n",
    "print(\"สรุปผลลัพธ์:\")\n",
    "print(summary)"
   ]
  },
  {
   "cell_type": "code",
   "execution_count": null,
   "id": "22c06fe7",
   "metadata": {},
   "outputs": [],
   "source": []
  }
 ],
 "metadata": {
  "kernelspec": {
   "display_name": "Python 3",
   "language": "python",
   "name": "python3"
  },
  "language_info": {
   "codemirror_mode": {
    "name": "ipython",
    "version": 3
   },
   "file_extension": ".py",
   "mimetype": "text/x-python",
   "name": "python",
   "nbconvert_exporter": "python",
   "pygments_lexer": "ipython3",
   "version": "3.11.9"
  }
 },
 "nbformat": 4,
 "nbformat_minor": 5
}
